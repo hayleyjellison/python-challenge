{
 "cells": [
  {
   "cell_type": "code",
   "execution_count": 1,
   "metadata": {},
   "outputs": [],
   "source": [
    "import csv\n",
    "import os"
   ]
  },
  {
   "cell_type": "code",
   "execution_count": 2,
   "metadata": {},
   "outputs": [],
   "source": [
    "csv_path = os.path.join(\"Resources\",\"budget_data.csv\")"
   ]
  },
  {
   "cell_type": "code",
   "execution_count": 3,
   "metadata": {},
   "outputs": [],
   "source": [
    "change = []\n",
    "with open(csv_path, 'r') as csvfile:\n",
    "    csvreader = csv.reader(csvfile, delimiter=\",\")\n",
    "    months = 0\n",
    "    mon = []\n",
    "    net = 0\n",
    "    csv_header = next(csvfile)\n",
    "    for row in csvreader:\n",
    "        months = months + 1\n",
    "        net = net + int(row[1])\n",
    "        change.append(row[1])\n",
    "        mon.append(row[0])"
   ]
  },
  {
   "cell_type": "code",
   "execution_count": 4,
   "metadata": {},
   "outputs": [
    {
     "data": {
      "text/plain": [
       "86"
      ]
     },
     "execution_count": 4,
     "metadata": {},
     "output_type": "execute_result"
    }
   ],
   "source": [
    "months"
   ]
  },
  {
   "cell_type": "code",
   "execution_count": 5,
   "metadata": {},
   "outputs": [
    {
     "data": {
      "text/plain": [
       "38382578"
      ]
     },
     "execution_count": 5,
     "metadata": {},
     "output_type": "execute_result"
    }
   ],
   "source": [
    "net"
   ]
  },
  {
   "cell_type": "code",
   "execution_count": 6,
   "metadata": {},
   "outputs": [],
   "source": [
    "#change"
   ]
  },
  {
   "cell_type": "code",
   "execution_count": 7,
   "metadata": {},
   "outputs": [],
   "source": [
    "diff=[]\n",
    "def avg(seq):\n",
    "    total = 0\n",
    "    for i in range(len(seq)):\n",
    "        diff.append(int(seq[i])-int(seq[i-1]))\n",
    "    length = len(diff)-1\n",
    "    for row in diff:\n",
    "        total += row\n",
    "    return (total-diff[0])/length"
   ]
  },
  {
   "cell_type": "code",
   "execution_count": 8,
   "metadata": {},
   "outputs": [
    {
     "name": "stdout",
     "output_type": "stream",
     "text": [
      "-2315.12\n"
     ]
    }
   ],
   "source": [
    "ok = str(round(avg(change),2))\n",
    "print(ok)"
   ]
  },
  {
   "cell_type": "code",
   "execution_count": 9,
   "metadata": {},
   "outputs": [],
   "source": [
    "big = max(diff)"
   ]
  },
  {
   "cell_type": "code",
   "execution_count": 10,
   "metadata": {},
   "outputs": [
    {
     "data": {
      "text/plain": [
       "-2196167"
      ]
     },
     "execution_count": 10,
     "metadata": {},
     "output_type": "execute_result"
    }
   ],
   "source": [
    "small = min(diff)\n",
    "small"
   ]
  },
  {
   "cell_type": "code",
   "execution_count": 26,
   "metadata": {},
   "outputs": [
    {
     "name": "stdout",
     "output_type": "stream",
     "text": [
      "Feb-2012\n"
     ]
    }
   ],
   "source": [
    "new = zip(mon,diff)\n",
    "greatest = [num for num in new if num[1] == max(diff)]\n",
    "print(greatest[0][0])"
   ]
  },
  {
   "cell_type": "code",
   "execution_count": 30,
   "metadata": {},
   "outputs": [
    {
     "name": "stdout",
     "output_type": "stream",
     "text": [
      "Sep-2013\n"
     ]
    }
   ],
   "source": [
    "newer = zip(mon,diff)\n",
    "smallest = [nub for nub in newer if nub[1] == min(diff)]\n",
    "print(smallest[0][0])"
   ]
  },
  {
   "cell_type": "code",
   "execution_count": 12,
   "metadata": {},
   "outputs": [],
   "source": [
    "output_file = os.path.join(\"test.csv\")\n",
    "with open(output_file, \"w\", newline=\"\") as test:\n",
    "    writer = csv.writer(test)\n",
    "\n",
    "    writer.writerows(new)"
   ]
  },
  {
   "cell_type": "code",
   "execution_count": 32,
   "metadata": {},
   "outputs": [],
   "source": [
    "with open(\"PyBank.txt\",\"w\") as outfile:\n",
    "    outfile.write(\"Financial Analysis \\n\")\n",
    "    outfile.write(\"---------------------- \\n\")\n",
    "    outfile.write(f\"Total Months: {months}\\n\")\n",
    "    outfile.write(f\"Total: ${net} \\n\")\n",
    "    outfile.write(f\"Average Change: ${ok} \\n\")\n",
    "    outfile.write(f\"Greatest Increase in Profits: {greatest[0][0]}: ${big} \\n\")\n",
    "    outfile.write(f\"Greatest Decrease in Profits: {smallest[0][0]}: ${small} \\n\")"
   ]
  },
  {
   "cell_type": "code",
   "execution_count": 31,
   "metadata": {},
   "outputs": [
    {
     "name": "stdout",
     "output_type": "stream",
     "text": [
      "Financial Analysis \n",
      "\n",
      "---------------------- \n",
      "\n",
      "Total Months: 86\n",
      "\n",
      "Total: $38382578 \n",
      "\n",
      "Average Change: $-2315.12 \n",
      "\n",
      "Greatest Increase in Profits: Feb-2012: $1926159 \n",
      "\n",
      "Greatest Decrease in Profits: Sep-2013: $-2196167 \n",
      "\n"
     ]
    }
   ],
   "source": [
    "print(\"Financial Analysis \\n\")\n",
    "print(\"---------------------- \\n\")\n",
    "print(f\"Total Months: {months}\\n\")\n",
    "print(f\"Total: ${net} \\n\")\n",
    "print(f\"Average Change: ${ok} \\n\")\n",
    "print(f\"Greatest Increase in Profits: {greatest[0][0]}: ${big} \\n\")\n",
    "print(f\"Greatest Decrease in Profits: {smallest[0][0]}: ${small} \\n\")"
   ]
  },
  {
   "cell_type": "code",
   "execution_count": null,
   "metadata": {},
   "outputs": [],
   "source": []
  }
 ],
 "metadata": {
  "kernelspec": {
   "display_name": "Conda [PythonData]",
   "language": "python",
   "name": "pythondata"
  },
  "language_info": {
   "codemirror_mode": {
    "name": "ipython",
    "version": 3
   },
   "file_extension": ".py",
   "mimetype": "text/x-python",
   "name": "python",
   "nbconvert_exporter": "python",
   "pygments_lexer": "ipython3",
   "version": "3.7.2"
  }
 },
 "nbformat": 4,
 "nbformat_minor": 2
}
