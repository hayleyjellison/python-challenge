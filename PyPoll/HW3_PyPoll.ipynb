{
 "cells": [
  {
   "cell_type": "code",
   "execution_count": 1,
   "metadata": {},
   "outputs": [],
   "source": [
    "import csv\n",
    "import os"
   ]
  },
  {
   "cell_type": "code",
   "execution_count": 2,
   "metadata": {},
   "outputs": [],
   "source": [
    "csv_path = os.path.join(\"Resources\",\"election_data.csv\")"
   ]
  },
  {
   "cell_type": "code",
   "execution_count": 3,
   "metadata": {},
   "outputs": [],
   "source": [
    "candidates = []\n",
    "with open(csv_path, 'r') as csvfile:\n",
    "    csvreader = csv.reader(csvfile, delimiter=\",\")\n",
    "    voter_count = 0\n",
    "    csv_header = next(csvfile)\n",
    "    for row in csvreader:\n",
    "        candidates.append(row[2])\n",
    "        voter_count = voter_count + 1"
   ]
  },
  {
   "cell_type": "code",
   "execution_count": 4,
   "metadata": {},
   "outputs": [
    {
     "data": {
      "text/plain": [
       "3521001"
      ]
     },
     "execution_count": 4,
     "metadata": {},
     "output_type": "execute_result"
    }
   ],
   "source": [
    "voter_count"
   ]
  },
  {
   "cell_type": "code",
   "execution_count": 5,
   "metadata": {},
   "outputs": [],
   "source": [
    "cand_names = []\n",
    "def unique(list):\n",
    "    for row in list:\n",
    "        if row not in cand_names:\n",
    "            cand_names.append(row)\n",
    "    return cand_names"
   ]
  },
  {
   "cell_type": "code",
   "execution_count": 6,
   "metadata": {},
   "outputs": [
    {
     "data": {
      "text/plain": [
       "['Khan', 'Correy', 'Li', \"O'Tooley\"]"
      ]
     },
     "execution_count": 6,
     "metadata": {},
     "output_type": "execute_result"
    }
   ],
   "source": [
    "candy = unique(candidates)\n",
    "candy"
   ]
  },
  {
   "cell_type": "code",
   "execution_count": 7,
   "metadata": {},
   "outputs": [
    {
     "data": {
      "text/plain": [
       "'Khan'"
      ]
     },
     "execution_count": 7,
     "metadata": {},
     "output_type": "execute_result"
    }
   ],
   "source": [
    "khan_votes = candidates.count(\"Khan\")\n",
    "correy_votes = candidates.count(\"Correy\")\n",
    "li_votes = candidates.count(\"Li\")\n",
    "otooley_votes = candidates.count(\"O'Tooley\")\n",
    "votes = [int(khan_votes),int(correy_votes),int(li_votes),int(otooley_votes)]\n",
    "votes\n",
    "clean = list(zip(candy,votes))\n",
    "winner = [win for win in clean if win[1] == max(votes)]\n",
    "winner[0][0]"
   ]
  },
  {
   "cell_type": "code",
   "execution_count": 8,
   "metadata": {},
   "outputs": [
    {
     "name": "stdout",
     "output_type": "stream",
     "text": [
      "2218231\n",
      "704200\n",
      "492940\n",
      "105630\n"
     ]
    }
   ],
   "source": [
    "print(khan_votes)\n",
    "print(correy_votes)\n",
    "print(li_votes)\n",
    "print(otooley_votes)"
   ]
  },
  {
   "cell_type": "code",
   "execution_count": 9,
   "metadata": {},
   "outputs": [],
   "source": [
    "khan_per = (khan_votes/voter_count)*100\n",
    "correy_per = (correy_votes/voter_count)*100\n",
    "li_per = (li_votes/voter_count)*100\n",
    "otooley_per = (otooley_votes/voter_count)*100"
   ]
  },
  {
   "cell_type": "code",
   "execution_count": 10,
   "metadata": {},
   "outputs": [
    {
     "name": "stdout",
     "output_type": "stream",
     "text": [
      "63.0\n",
      "20.0\n",
      "14.0\n",
      "3.0\n"
     ]
    }
   ],
   "source": [
    "print(str(round(khan_per,2)))\n",
    "print(str(round(correy_per,2)))\n",
    "print(str(round(li_per,2)))\n",
    "print(str(round(otooley_per,2)))"
   ]
  },
  {
   "cell_type": "code",
   "execution_count": 15,
   "metadata": {},
   "outputs": [],
   "source": [
    "with open(\"PyPoll.txt\",\"w\") as outfile:\n",
    "    outfile.write(\"Election Results \\n\")\n",
    "    outfile.write(\"---------------------- \\n\")\n",
    "    outfile.write(f\"Total Votes: {voter_count}\\n\")\n",
    "    outfile.write(\"---------------------- \\n\")\n",
    "    outfile.write(f\"Khan: {str(round(khan_per,2))}% ({khan_votes} votes) \\n\")\n",
    "    outfile.write(f\"Correy: {str(round(correy_per,2))}% ({correy_votes} votes)\\n\")\n",
    "    outfile.write(f\"Li: {str(round(li_per,2))}% ({li_votes} votes)\\n\")\n",
    "    outfile.write(f\"O'Tooley: {str(round(otooley_per,2))}% ({otooley_votes} votes) \\n\")\n",
    "    outfile.write(\"---------------------- \\n\")\n",
    "    outfile.write(f\"Winner: {winner[0][0]} \\n\")"
   ]
  },
  {
   "cell_type": "code",
   "execution_count": 13,
   "metadata": {},
   "outputs": [
    {
     "name": "stdout",
     "output_type": "stream",
     "text": [
      "Election Results \n",
      "\n",
      "---------------------- \n",
      "\n",
      "Total Votes: 3521001\n",
      "\n",
      "---------------------- \n",
      "\n",
      "Khan: 63.0% (2218231 votes) \n",
      "\n",
      "Correy: 20.0% (704200 votes) \n",
      "\n",
      "Li: 14.0% (492940 votes) \n",
      "\n",
      "O'Tooley: 3.0% (105630 votes)\n",
      "\n",
      "---------------------- \n",
      "\n",
      "Winner: Khan \n",
      "\n"
     ]
    }
   ],
   "source": [
    "print(\"Election Results \\n\")\n",
    "print(\"---------------------- \\n\")\n",
    "print(f\"Total Votes: {voter_count}\\n\")\n",
    "print(\"---------------------- \\n\")\n",
    "print(f\"Khan: {str(round(khan_per,2))}% ({khan_votes} votes) \\n\")\n",
    "print(f\"Correy: {str(round(correy_per,2))}% ({correy_votes} votes) \\n\")\n",
    "print(f\"Li: {str(round(li_per,2))}% ({li_votes} votes) \\n\")\n",
    "print(f\"O'Tooley: {str(round(otooley_per,2))}% ({otooley_votes} votes)\\n\")\n",
    "print(\"---------------------- \\n\")\n",
    "print(f\"Winner: {winner[0][0]} \\n\")"
   ]
  },
  {
   "cell_type": "code",
   "execution_count": null,
   "metadata": {},
   "outputs": [],
   "source": []
  }
 ],
 "metadata": {
  "kernelspec": {
   "display_name": "Conda [PythonData]",
   "language": "python",
   "name": "pythondata"
  },
  "language_info": {
   "codemirror_mode": {
    "name": "ipython",
    "version": 3
   },
   "file_extension": ".py",
   "mimetype": "text/x-python",
   "name": "python",
   "nbconvert_exporter": "python",
   "pygments_lexer": "ipython3",
   "version": "3.7.2"
  }
 },
 "nbformat": 4,
 "nbformat_minor": 2
}
